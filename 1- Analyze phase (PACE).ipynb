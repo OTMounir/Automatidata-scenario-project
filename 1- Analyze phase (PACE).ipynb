{
 "cells": [
  {
   "cell_type": "markdown",
   "metadata": {},
   "source": [
    "<h1> Inspect and analyze data</h1>\n",
    "\n",
    "Examine data provided and prepare it for analysis.  This activity will help ensure the information is,\n",
    "\n",
    "1.   Ready to answer questions and yield insights\n",
    "\n",
    "2.   Ready for visualizations\n",
    "\n",
    "3.   Ready for future hypothesis testing and statistical methods\n",
    "<br/>    \n",
    "\n",
    "**The purpose** of this project is to investigate and understand the data provided.\n",
    "  \n",
    "**The goal** is to use a dataframe contructed within Python, perform a cursory inspection of the provided dataset, and inform team members of your findings. \n",
    "<br/>  \n",
    "*This activity has three parts:*\n",
    "\n",
    "**Part 1:** Understand the situation \n",
    "* Prepare to understand and organize the provided taxi cab dataset and information.\n",
    "\n",
    "**Part 2:** Understand the data\n",
    "\n",
    "* Create a pandas dataframe for data learning, future exploratory data analysis (EDA), and statistical activities.\n",
    "\n",
    "* Compile summary information about the data to inform next steps.\n",
    "\n",
    "**Part 3:** Understand the variables\n",
    "\n",
    "* Use insights from your examination of the summary data to guide deeper investigation into specific variables.\n",
    "\n",
    "\n",
    "<br/> \n",
    "Follow the instructions and answer the following questions to complete the activity. Then, you will complete an Executive Summary using the questions listed on the PACE Strategy Document.\n",
    "\n",
    "Be sure to complete this activity before moving on. The next course item will provide you with a completed exemplar to compare to your own work. \n"
   ]
  },
  {
   "cell_type": "markdown",
   "metadata": {},
   "source": [
    "**Packages and libraries**"
   ]
  },
  {
   "cell_type": "code",
   "execution_count": 3,
   "metadata": {},
   "outputs": [],
   "source": [
    "import pandas as pd\n",
    "import numpy as np"
   ]
  },
  {
   "cell_type": "code",
   "execution_count": null,
   "metadata": {},
   "outputs": [],
   "source": []
  }
 ],
 "metadata": {
  "kernelspec": {
   "display_name": "Python 3",
   "language": "python",
   "name": "python3"
  },
  "language_info": {
   "codemirror_mode": {
    "name": "ipython",
    "version": 3
   },
   "file_extension": ".py",
   "mimetype": "text/x-python",
   "name": "python",
   "nbconvert_exporter": "python",
   "pygments_lexer": "ipython3",
   "version": "3.10.6"
  }
 },
 "nbformat": 4,
 "nbformat_minor": 2
}
